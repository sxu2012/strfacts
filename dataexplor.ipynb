{
 "cells": [
  {
   "cell_type": "code",
   "execution_count": 1,
   "metadata": {},
   "outputs": [
    {
     "data": {
      "text/html": [
       "<style>.container { width:100% !important; }</style>"
      ],
      "text/plain": [
       "<IPython.core.display.HTML object>"
      ]
     },
     "metadata": {},
     "output_type": "display_data"
    }
   ],
   "source": [
    "from IPython.display import display, HTML\n",
    "display(HTML(\"<style>.container { width:100% !important; }</style>\"))"
   ]
  },
  {
   "cell_type": "code",
   "execution_count": 2,
   "metadata": {},
   "outputs": [],
   "source": [
    "import json\n",
    "import os\n",
    "from datetime import datetime\n",
    "from pyspark.sql import SparkSession\n",
    "from pyspark.sql.types import StructType, StructField, StringType, IntegerType, DateType, TimestampType, DecimalType\n",
    "from typing import List\n"
   ]
  },
  {
   "cell_type": "code",
   "execution_count": 3,
   "metadata": {},
   "outputs": [],
   "source": [
    "spark = SparkSession.builder.master(\"local\").appName(\"app\").getOrCreate()\n"
   ]
  },
  {
   "cell_type": "code",
   "execution_count": 4,
   "metadata": {},
   "outputs": [],
   "source": [
    "    csv_raw = spark.sparkContext.textFile(\"tq.csv\")"
   ]
  },
  {
   "cell_type": "code",
   "execution_count": 5,
   "metadata": {},
   "outputs": [],
   "source": [
    "def parse_csv(line:str):\n",
    "    record_type_pos = 2\n",
    "    record = line.split(\",\")\n",
    "    try:\n",
    "        # [logic to parse records]\n",
    "        if record[record_type_pos] == \"Q\":\n",
    "            event = [record[0], record[2], record[3], record[6], record[4], record[5], \\\n",
    "                     record[1], None, record[7], record[8], record[9], record[10], \"Q\"]\n",
    "            return event\n",
    "        elif record[record_type_pos] == \"T\":\n",
    "            event = [record[0], record[2], record[3], record[6], record[4], record[5], \\\n",
    "                     record[1], record[7], None, record[8], None, None, \"T\"]\n",
    "            return event\n",
    "    except Exception as e:\n",
    "        # [save record to dummy event in bad partition]\n",
    "        # [fill in the fields as None or empty string]\n",
    "        return [None,None,None,None,None,None,None,None,None,None,None,None,\"B\"]\n"
   ]
  },
  {
   "cell_type": "code",
   "execution_count": 6,
   "metadata": {},
   "outputs": [],
   "source": [
    "    csv_parsed = csv_raw.map(lambda line: parse_csv(line))\n"
   ]
  },
  {
   "cell_type": "code",
   "execution_count": 7,
   "metadata": {},
   "outputs": [],
   "source": [
    "schema = StructType([\n",
    "    StructField(\"trade_dt\", StringType(), True),\n",
    "    StructField(\"rec_type\", StringType(),True),\n",
    "    StructField(\"symbol\",   StringType(),True),\n",
    "    StructField(\"exchange\", StringType(), True),\n",
    "    StructField(\"event_tm\", StringType(), True),\n",
    "    StructField(\"event_seq_nb\", StringType(), True),\n",
    "    StructField(\"arrival_tm\",   StringType(), True),\n",
    "    StructField(\"trade_pr\", StringType(),True),\n",
    "    StructField(\"bid_pr\",   StringType(),True),\n",
    "    StructField(\"bid_size\", StringType(), True),\n",
    "    StructField(\"ask_pr\",   StringType(), True),\n",
    "    StructField(\"ask_size\", StringType(), True),\n",
    "    StructField(\"partition\",    StringType(), True)\n",
    "  ])\n"
   ]
  },
  {
   "cell_type": "code",
   "execution_count": 8,
   "metadata": {},
   "outputs": [],
   "source": [
    " csv_data = spark.createDataFrame(csv_parsed, schema=schema)\n"
   ]
  },
  {
   "cell_type": "code",
   "execution_count": 9,
   "metadata": {
    "scrolled": false
   },
   "outputs": [
    {
     "name": "stdout",
     "output_type": "stream",
     "text": [
      "+----------+--------+------+--------+--------------------+------------+--------------------+-----------------+-----------------+--------+-----------------+--------+---------+\n",
      "|  trade_dt|rec_type|symbol|exchange|            event_tm|event_seq_nb|          arrival_tm|         trade_pr|           bid_pr|bid_size|           ask_pr|ask_size|partition|\n",
      "+----------+--------+------+--------+--------------------+------------+--------------------+-----------------+-----------------+--------+-----------------+--------+---------+\n",
      "|2020-08-05|       Q|  SYMA|    NYSE|2020-08-05 09:34:...|           1|2020-08-05 09:30:...|             null|75.30254839137037|     100|75.35916738004924|     100|        Q|\n",
      "|2020-08-05|       Q|  SYMA|    NYSE|2020-08-05 09:40:...|           2|2020-08-05 09:30:...|             null|77.20874619466693|     100|78.90918015646369|     100|        Q|\n",
      "|2020-08-05|       Q|  SYMA|    NYSE|2020-08-05 09:50:...|           3|2020-08-05 09:30:...|             null|77.15973273251218|     100| 77.3320469411047|     100|        Q|\n",
      "|2020-08-05|       Q|  SYMA|    NYSE|2020-08-05 09:57:...|           4|2020-08-05 09:30:...|             null|79.29977331004093|     100|80.08399307353596|     100|        Q|\n",
      "|2020-08-05|       Q|  SYMA|    NYSE|2020-08-05 10:06:...|           5|2020-08-05 09:30:...|             null| 77.8634951217078|     100|78.30821537434917|     100|        Q|\n",
      "|2020-08-05|       Q|  SYMA|    NYSE|2020-08-05 10:11:...|           6|2020-08-05 09:30:...|             null|78.74799689143143|     100|80.32905299746953|     100|        Q|\n",
      "|2020-08-05|       Q|  SYMA|    NYSE|2020-08-05 10:17:...|           7|2020-08-05 09:30:...|             null|77.16837620945849|     100|77.97598027909252|     100|        Q|\n",
      "|2020-08-05|       Q|  SYMA|    NYSE|2020-08-05 10:23:...|           8|2020-08-05 09:30:...|             null|78.06551496692607|     100|78.80516026628197|     100|        Q|\n",
      "|2020-08-05|       Q|  SYMA|    NYSE|2020-08-05 10:31:...|           9|2020-08-05 09:30:...|             null|76.69653634240801|     100| 78.5694237573503|     100|        Q|\n",
      "|2020-08-05|       T|  SYMA|    NYSE|2020-08-05 10:37:...|          10|2020-08-05 09:30:...|79.19488165597565|             null|     912|             null|    null|        T|\n",
      "+----------+--------+------+--------+--------------------+------------+--------------------+-----------------+-----------------+--------+-----------------+--------+---------+\n",
      "only showing top 10 rows\n",
      "\n"
     ]
    }
   ],
   "source": [
    "csv_data.show(10)\n"
   ]
  },
  {
   "cell_type": "code",
   "execution_count": 10,
   "metadata": {},
   "outputs": [],
   "source": [
    "def parse_json(line:str):\n",
    "    record = json.loads(line)\n",
    "    record_type = record['event_type']\n",
    "    try:\n",
    "        # [logic to parse records]\n",
    "        if record_type == \"T\":\n",
    "            # [Get the applicable field values from json]\n",
    "            if all(i in record for i in ['execution_id','trade_dt', 'event_type', 'symbol', 'exchange',\n",
    "                'event_tm', 'event_seq_nb', 'file_tm', 'price', 'size']):\n",
    "                event = [record['trade_dt'], record['event_type'], record['symbol'], record['exchange'], record['event_tm'],\n",
    "                         record['event_seq_nb'], record['file_tm'], record['price'], None, record['size'], None, None,\"T\"]\n",
    "            else:\n",
    "                event = [None,None,None,None,None,None,None,None,None,None,None,None,\"B\"]\n",
    "        elif record_type == \"Q\":\n",
    "            # [Get the applicable field values from json]\n",
    "            #if 'event_seq_nb' in record: \n",
    "            if all(i in record for i in ['trade_dt', 'event_type', 'symbol', 'exchange', 'event_tm',\n",
    "                'event_seq_nb', 'file_tm', 'bid_pr', 'bid_size', 'ask_pr', 'ask_size']):\n",
    "                event = [record['trade_dt'], record['event_type'], record['symbol'], record['exchange'], record['event_tm'],\n",
    "                         record['event_seq_nb'], record['file_tm'], None, record['bid_pr'], record['bid_size'], record['ask_pr'], record['ask_size'],\"Q\"]\n",
    "            else:\n",
    "                event = [None,None,None,None,None,None,None,None,None,None,None,None,\"B\"]\n",
    "        return event\n",
    "    except Exception as e:\n",
    "        # [save record to dummy event in bad partition]\n",
    "        # [fill in the fields as None or empty string]\n",
    "        return common_event[None,None,None,None,None,None,None,None,None,None,None,None,\"B\"]\n"
   ]
  },
  {
   "cell_type": "code",
   "execution_count": 11,
   "metadata": {
    "scrolled": true
   },
   "outputs": [
    {
     "name": "stdout",
     "output_type": "stream",
     "text": [
      "+----------+--------+------+--------+--------------------+------------+--------------------+-----------------+-----------------+--------+-----------------+--------+---------+\n",
      "|  trade_dt|rec_type|symbol|exchange|            event_tm|event_seq_nb|          arrival_tm|         trade_pr|           bid_pr|bid_size|           ask_pr|ask_size|partition|\n",
      "+----------+--------+------+--------+--------------------+------------+--------------------+-----------------+-----------------+--------+-----------------+--------+---------+\n",
      "|2020-08-05|       Q|  SYMA|  NASDAQ|2020-08-05 09:36:...|           1|2020-08-05 09:30:...|             null|76.10016521142818|     100| 77.9647975908747|     100|        Q|\n",
      "|2020-08-05|       Q|  SYMA|  NASDAQ|2020-08-05 09:42:...|           2|2020-08-05 09:30:...|             null|75.44372945251948|     100|75.94452858561046|     100|        Q|\n",
      "|2020-08-05|       Q|  SYMA|  NASDAQ|2020-08-05 09:48:...|           3|2020-08-05 09:30:...|             null|78.84798564828422|     100|80.69114407667608|     100|        Q|\n",
      "|2020-08-05|       Q|  SYMA|  NASDAQ|2020-08-05 09:53:...|           4|2020-08-05 09:30:...|             null|74.98336890552693|     100|76.16256530811053|     100|        Q|\n",
      "|2020-08-05|       Q|  SYMA|  NASDAQ|2020-08-05 10:00:...|           5|2020-08-05 09:30:...|             null|76.71408448666702|     100|77.85512785142082|     100|        Q|\n",
      "|2020-08-05|       Q|  SYMA|  NASDAQ|2020-08-05 10:05:...|           6|2020-08-05 09:30:...|             null|76.78900747031288|     100|77.79982571852163|     100|        Q|\n",
      "|2020-08-05|       Q|  SYMA|  NASDAQ|2020-08-05 10:13:...|           7|2020-08-05 09:30:...|             null|76.37099394549293|     100|76.94631910510188|     100|        Q|\n",
      "|2020-08-05|       Q|  SYMA|  NASDAQ|2020-08-05 10:21:...|           8|2020-08-05 09:30:...|             null|77.32601214334609|     100|77.65017757988643|     100|        Q|\n",
      "|2020-08-05|       Q|  SYMA|  NASDAQ|2020-08-05 10:30:...|           9|2020-08-05 09:30:...|             null|77.11395059665263|     100|77.52985832434904|     100|        Q|\n",
      "|2020-08-05|       T|  SYMA|  NASDAQ|2020-08-05 10:38:...|          10|2020-08-05 09:30:...|77.77570455205036|             null|     509|             null|    null|        T|\n",
      "+----------+--------+------+--------+--------------------+------------+--------------------+-----------------+-----------------+--------+-----------------+--------+---------+\n",
      "only showing top 10 rows\n",
      "\n"
     ]
    }
   ],
   "source": [
    "json_raw = spark.sparkContext.textFile(\"tq.json\")\n",
    "json_parsed = json_raw.map(lambda line: parse_json(line))\n",
    "json_data = spark.createDataFrame(json_parsed, schema=schema)\n",
    "json_data.show(10)\n"
   ]
  },
  {
   "cell_type": "code",
   "execution_count": 12,
   "metadata": {},
   "outputs": [],
   "source": [
    "    # Save output\n",
    "    csv_data.write.partitionBy(\"partition\").mode(\"overwrite\").parquet(\"output_dir\")\n",
    "    json_data.write.partitionBy(\"partition\").mode(\"overwrite\").parquet(\"output_dir\")"
   ]
  }
 ],
 "metadata": {
  "kernelspec": {
   "display_name": "Python 3",
   "language": "python",
   "name": "python3"
  },
  "language_info": {
   "codemirror_mode": {
    "name": "ipython",
    "version": 3
   },
   "file_extension": ".py",
   "mimetype": "text/x-python",
   "name": "python",
   "nbconvert_exporter": "python",
   "pygments_lexer": "ipython3",
   "version": "3.8.5"
  }
 },
 "nbformat": 4,
 "nbformat_minor": 4
}
